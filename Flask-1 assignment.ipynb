{
 "cells": [
  {
   "cell_type": "markdown",
   "id": "2cc2e3e7-38be-4e1e-872a-3e9476b0d7a3",
   "metadata": {},
   "source": [
    "The Flex Framework,also know as adobe Flex,is a collection of technlogies and tools for building rich web application.It utilizes a declartive languages called MXML(similar to XML) to define the user interface and actionscript for programming logic.Flex application can run in the Adobe Flash player or Adobe AIR runtime."
   ]
  },
  {
   "cell_type": "markdown",
   "id": "d3ae5fba-93cd-4202-9a38-83a8f0ff87d8",
   "metadata": {},
   "source": [
    "Advantage of the flex framework include:"
   ]
  },
  {
   "cell_type": "markdown",
   "id": "cc5798f7-8097-4f39-825a-58f38d790f9c",
   "metadata": {},
   "source": [
    "1. Rich user interface:Flex enables the creation of highly interactive and visually appealing user interfaces with features like animation,data binding,and customizable components."
   ]
  },
  {
   "cell_type": "markdown",
   "id": "6652eafc-930d-4543-b17a-c7f45d58c87d",
   "metadata": {},
   "source": [
    "2. Cross -platform compatiblity: Flex applications can run on various platforms and browsers,providing a consistent user experience across diffrent device and operating system."
   ]
  },
  {
   "cell_type": "markdown",
   "id": "87039f01-c12b-49e4-a55c-01c23331aa5b",
   "metadata": {},
   "source": [
    "3. Data integration: Flex applications can run on various platform and browsers,providing a consient user experience across diffrent devices and operating system."
   ]
  },
  {
   "cell_type": "markdown",
   "id": "0d6235db-5c66-4685-8c65-e14e4f993314",
   "metadata": {},
   "source": [
    "4. Productivity:The framework enhances developer productivity with features like reusable components,pre-built UI elementsand a robust set of tools for debugging and profilling."
   ]
  },
  {
   "cell_type": "markdown",
   "id": "e55be8f6-2728-4cec-b1d7-c78458041885",
   "metadata": {},
   "source": [
    "5. Flexbility: flex provides a flexible development enviroment,allowing developers to choose between declartive(MXML) and imperative(actionscript) apporoaches based on their prefrences and project requirements."
   ]
  },
  {
   "cell_type": "code",
   "execution_count": 2,
   "id": "6001f968-12ec-4143-a258-28810c3f8e8d",
   "metadata": {},
   "outputs": [
    {
     "ename": "IndentationError",
     "evalue": "unindent does not match any outer indentation level (<tokenize>, line 13)",
     "output_type": "error",
     "traceback": [
      "\u001b[0;36m  File \u001b[0;32m<tokenize>:13\u001b[0;36m\u001b[0m\n\u001b[0;31m    <s:Label text=\"Hello World\"\u001b[0m\n\u001b[0m    ^\u001b[0m\n\u001b[0;31mIndentationError\u001b[0m\u001b[0;31m:\u001b[0m unindent does not match any outer indentation level\n"
     ]
    }
   ],
   "source": [
    "<?xml version =\"1.0\"\n",
    "encoding = \"utf-8\"?>\n",
    "<s:Application\n",
    "xmlns:fx = \"http://ns.adobe.com/mxml/2009\"\n",
    "\n",
    "xmls:s= \"libary://ns.adobe.com/flex/spark\">\n",
    "\n",
    "     <fx:Declartions>\n",
    "         <!-- Place non-visual\n",
    "elements (e.g., services,value object) here -->\n",
    "        </fx:Decarations>\n",
    "    \n",
    "    <s:Label text=\"Hello World\"\n",
    "    fontsize=\"24\" horizontalCenter=\"0\"\n",
    "    vericalCentre=\"0\" />\n",
    "    \n",
    "    </s:Application>    "
   ]
  },
  {
   "cell_type": "code",
   "execution_count": 3,
   "id": "ac63f3fb-d9e4-45d4-a04f-fd1e9eb67173",
   "metadata": {},
   "outputs": [
    {
     "ename": "ModuleNotFoundError",
     "evalue": "No module named 'flask'",
     "output_type": "error",
     "traceback": [
      "\u001b[0;31m---------------------------------------------------------------------------\u001b[0m",
      "\u001b[0;31mModuleNotFoundError\u001b[0m                       Traceback (most recent call last)",
      "Cell \u001b[0;32mIn[3], line 1\u001b[0m\n\u001b[0;32m----> 1\u001b[0m \u001b[38;5;28;01mfrom\u001b[39;00m \u001b[38;5;21;01mflask\u001b[39;00m \u001b[38;5;28;01mimport\u001b[39;00m Flask\n\u001b[1;32m      3\u001b[0m app \u001b[38;5;241m=\u001b[39m Flask(\u001b[38;5;18m__name__\u001b[39m)\n\u001b[1;32m      5\u001b[0m \u001b[38;5;129m@app\u001b[39m\u001b[38;5;241m.\u001b[39mroute(\u001b[38;5;124m'\u001b[39m\u001b[38;5;124m/\u001b[39m\u001b[38;5;124m'\u001b[39m)\n\u001b[1;32m      6\u001b[0m \u001b[38;5;28;01mdef\u001b[39;00m \u001b[38;5;21mhome\u001b[39m():\n",
      "\u001b[0;31mModuleNotFoundError\u001b[0m: No module named 'flask'"
     ]
    }
   ],
   "source": [
    "from flask import Flask\n",
    "\n",
    "app = Flask(__name__)\n",
    "\n",
    "@app.route('/')\n",
    "def home():\n",
    "    return 'Hello,this is the home page!'\n",
    "\n",
    "@app.route('/about')\n",
    "def about():\n",
    "    return 'This is the about page.'\n",
    "\n",
    "if __name__ == '__main__':\n",
    "    app.run(debug=True)"
   ]
  },
  {
   "cell_type": "markdown",
   "id": "0ca02ab3-b1d7-4b61-a1f2-581c752528f6",
   "metadata": {},
   "source": [
    "uses of app routes in Flsk:\n",
    "1. Organised Code\n",
    "2. URL mapping\n",
    "3. RESTful Routing\n",
    "4. Dynamic URLs"
   ]
  },
  {
   "cell_type": "code",
   "execution_count": 4,
   "id": "bd43aed7-5059-429e-84ea-355f95a4dbd5",
   "metadata": {},
   "outputs": [
    {
     "ename": "SyntaxError",
     "evalue": "expected ':' (2253637055.py, line 6)",
     "output_type": "error",
     "traceback": [
      "\u001b[0;36m  Cell \u001b[0;32mIn[4], line 6\u001b[0;36m\u001b[0m\n\u001b[0;31m    def welcome().\u001b[0m\n\u001b[0m                 ^\u001b[0m\n\u001b[0;31mSyntaxError\u001b[0m\u001b[0;31m:\u001b[0m expected ':'\n"
     ]
    }
   ],
   "source": [
    "from flask import Flask\n",
    "\n",
    "app = Flask(__name__)\n",
    "\n",
    "@app.route('/')\n",
    "def welcome().\n",
    "    return 'welcome to ABC corporation'\n",
    "\n",
    "@app.route('/company-details')\n",
    "def company_details():\n",
    "    return '''\n",
    "    company name:ABC Corporation\n",
    "    location:India\n",
    "    contact details:999-999-9999\n",
    "    '''\n",
    "\n",
    "if __name__ == '__main__':\n",
    "    app.run(debug=True)"
   ]
  },
  {
   "cell_type": "code",
   "execution_count": null,
   "id": "ee4bae5d-b0b5-4640-895f-5a4c09b9ee08",
   "metadata": {},
   "outputs": [],
   "source": [
    "from flask import Flask,url_for\n",
    "\n",
    "app = Flask(__name__)\n",
    "\n",
    "@app.route('/')\n",
    "def home():\n",
    "    return \"Welcome to the home page!'\n",
    "\n",
    "@app.route('/user/<username>')\n",
    "def user_profile(username):\n",
    "    return f'Hello, {useername}!'\n",
    "\n",
    "@app.route('/redirect_example')\n",
    "def redirect_example():\n",
    "    # using url_for to dynamically genrate a url for the 'home'endpoint\n",
    "    home_url = url_for('home')\n",
    "    \n",
    "    # using url_for to dynamically generate a url for the 'user_profile' endpoint with a username argument\n",
    "    user_profile_url =\n",
    "    url_for('user_profile',username = 'johnDoe')\n",
    "    \n",
    "    return f'''\n",
    "    <p>Generated home url: <a\n",
    "    href =\"{home_url}\">{home_url}</a></p>\n",
    "    <p>Genrated user profile URL: <a\n",
    "    href =\"{user_profile_url}\">{user_pro file_url}</a<>/p>"
   ]
  }
 ],
 "metadata": {
  "kernelspec": {
   "display_name": "Python 3 (ipykernel)",
   "language": "python",
   "name": "python3"
  },
  "language_info": {
   "codemirror_mode": {
    "name": "ipython",
    "version": 3
   },
   "file_extension": ".py",
   "mimetype": "text/x-python",
   "name": "python",
   "nbconvert_exporter": "python",
   "pygments_lexer": "ipython3",
   "version": "3.10.8"
  }
 },
 "nbformat": 4,
 "nbformat_minor": 5
}
